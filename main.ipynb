{
 "cells": [
  {
   "cell_type": "markdown",
   "id": "890d0abc",
   "metadata": {
    "papermill": {
     "duration": 0.002664,
     "end_time": "2025-09-21T17:30:29.133323",
     "exception": false,
     "start_time": "2025-09-21T17:30:29.130659",
     "status": "completed"
    },
    "tags": []
   },
   "source": [
    "<div style=\"background-color:#0d1117; color:#c9d1d9; padding:20px; border-radius:8px; font-family:Segoe UI, sans-serif; line-height:1.6;\">\n",
    "  <h1 style=\"color:#58a6ff;\">🏁 GridWorld: Q-Learning vs SARSA</h1>\n",
    "  \n",
    "  <p>\n",
    "    In this project, we explore two cornerstone algorithms of <strong>Classic Reinforcement Learning</strong>:\n",
    "    <span style=\"color:#d2a8ff;\">Q-Learning</span> and <span style=\"color:#d2a8ff;\">SARSA</span>.\n",
    "    Using a custom-built <strong>GridWorld</strong> environment, we train an agent to navigate from a start\n",
    "    position to a goal while avoiding traps and obstacles.\n",
    "  </p>\n",
    "\n",
    "  <h2 style=\"color:#58a6ff;\">🔍 Why GridWorld?</h2>\n",
    "  <p>\n",
    "    GridWorld provides a clean, interpretable environment where we can visualize learning policies \n",
    "    and compare algorithm behaviors side-by-side. Adding traps and movement penalties \n",
    "    forces each algorithm to balance risk and reward — a great setup to see their differences in action.\n",
    "  </p>\n",
    "\n",
    "  <h2 style=\"color:#58a6ff;\">📈 Project Goals</h2>\n",
    "  <ul>\n",
    "    <li>Implement a minimal but functional GridWorld without external dependencies.</li>\n",
    "    <li>Train agents using <strong>Q-Learning</strong> (off-policy) and <strong>SARSA</strong> (on-policy).</li>\n",
    "    <li>Track and compare learning curves, convergence speeds, and final policies.</li>\n",
    "    <li>Visualize results in a dark-themed, publication-ready format.</li>\n",
    "  </ul>\n",
    "\n",
    "  <h2 style=\"color:#58a6ff;\">🧠 Key Difference</h2>\n",
    "  <p>\n",
    "    <strong>Q-Learning</strong> always updates toward the <em>best possible action</em> in the next state, \n",
    "    even if the agent doesn't take it.<br>\n",
    "    <strong>SARSA</strong> updates based on the <em>actual action</em> taken in the next state.\n",
    "    This subtle change can lead to dramatically different navigation styles.\n",
    "  </p>\n",
    "\n",
    "  <p style=\"margin-top:15px; font-style:italic; color:#8b949e;\">\n",
    "    By the end of this notebook, you'll see how two seemingly similar algorithms \n",
    "    can make very different choices in the same world.\n",
    "  </p>\n",
    "</div>\n"
   ]
  },
  {
   "cell_type": "markdown",
   "id": "b67392ca",
   "metadata": {
    "papermill": {
     "duration": 0.001805,
     "end_time": "2025-09-21T17:30:29.137267",
     "exception": false,
     "start_time": "2025-09-21T17:30:29.135462",
     "status": "completed"
    },
    "tags": []
   },
   "source": [
    "<div style=\"background-color:#0d1117; color:#c9d1d9; padding:18px; border-radius:8px; font-family:Segoe UI, sans-serif; line-height:1.6;\">\n",
    "  <h2 style=\"color:#58a6ff;\">🛠 Step 1 — Setup & Imports</h2>\n",
    "  <p>\n",
    "    In this step, we prepare the core components needed for our <strong>GridWorld</strong> project:\n",
    "  </p>\n",
    "  <ul>\n",
    "    <li>Importing <code>numpy</code> and <code>matplotlib</code> for numerical operations and visualizations.</li>\n",
    "    <li>Configuring <strong>dark-themed plots</strong> for a cleaner Kaggle output.</li>\n",
    "    <li>Setting a <strong>random seed</strong> for reproducibility across runs.</li>\n",
    "    <li>Defining the <strong>environment grid size</strong> and available <strong>agent actions</strong>.</li>\n",
    "  </ul>\n",
    "  <p>\n",
    "    This minimal setup ensures our environment is ready for defining GridWorld mechanics \n",
    "    and plugging in <span style=\"color:#d2a8ff;\">Q-Learning</span> and <span style=\"color:#d2a8ff;\">SARSA</span> algorithms in the next steps.\n",
    "  </p>\n",
    "</div>\n"
   ]
  },
  {
   "cell_type": "code",
   "execution_count": 1,
   "id": "72e903ce",
   "metadata": {
    "execution": {
     "iopub.execute_input": "2025-09-21T17:30:29.142363Z",
     "iopub.status.busy": "2025-09-21T17:30:29.142038Z",
     "iopub.status.idle": "2025-09-21T17:30:29.153112Z",
     "shell.execute_reply": "2025-09-21T17:30:29.152168Z"
    },
    "papermill": {
     "duration": 0.015794,
     "end_time": "2025-09-21T17:30:29.154883",
     "exception": false,
     "start_time": "2025-09-21T17:30:29.139089",
     "status": "completed"
    },
    "tags": []
   },
   "outputs": [
    {
     "name": "stdout",
     "output_type": "stream",
     "text": [
      "Environment: 6x6 | Actions: ['U', 'R', 'D', 'L']\n"
     ]
    }
   ],
   "source": [
    "\n",
    "# Step 1 — Setup & Imports\n",
    "\n",
    "\n",
    "import numpy as np\n",
    "import matplotlib.pyplot as plt\n",
    "import random\n",
    "\n",
    "# Optional: make plots dark-themed by default for Kaggle\n",
    "plt.style.use('dark_background')\n",
    "\n",
    "# For reproducibility\n",
    "RANDOM_SEED = 42\n",
    "random.seed(RANDOM_SEED)\n",
    "np.random.seed(RANDOM_SEED)\n",
    "\n",
    "# Environment size\n",
    "GRID_ROWS = 6\n",
    "GRID_COLS = 6\n",
    "\n",
    "# Actions (Up, Right, Down, Left)\n",
    "ACTIONS = ['U', 'R', 'D', 'L']\n",
    "ACTION_IDX = {a: i for i, a in enumerate(ACTIONS)}\n",
    "\n",
    "print(f\"Environment: {GRID_ROWS}x{GRID_COLS} | Actions: {ACTIONS}\")\n"
   ]
  },
  {
   "cell_type": "markdown",
   "id": "fbfc1810",
   "metadata": {
    "papermill": {
     "duration": 0.001803,
     "end_time": "2025-09-21T17:30:29.158942",
     "exception": false,
     "start_time": "2025-09-21T17:30:29.157139",
     "status": "completed"
    },
    "tags": []
   },
   "source": [
    "<div style=\"background-color:#0d1117; color:#c9d1d9; padding:18px; border-radius:8px; font-family:Segoe UI, sans-serif; line-height:1.6;\">\n",
    "  <h2 style=\"color:#58a6ff;\">🌍 Step 2 — Building the GridWorld Environment</h2>\n",
    "  <p>\n",
    "    Here we define our custom <strong>GridWorld</strong> — a rectangular grid where an agent\n",
    "    navigates from a <span style=\"color:#d2a8ff;\">start position</span> to a <span style=\"color:#d2a8ff;\">goal</span>,\n",
    "    avoiding obstacles and traps along the way.\n",
    "  </p>\n",
    "  <h3 style=\"color:#58a6ff;\">Key Features</h3>\n",
    "  <ul>\n",
    "    <li>Supports <strong>obstacles (#)</strong> that block movement.</li>\n",
    "    <li>Includes <strong>traps (X)</strong> that end the episode with a penalty.</li>\n",
    "    <li>Grants a reward of <code>+10</code> for reaching the goal (<strong>G</strong>).</li>\n",
    "    <li>Applies a penalty of <code>-5</code> for traps, and <code>-1</code> for each step to encourage efficiency.</li>\n",
    "    <li>Maintains agent’s state as a <code>(row, col)</code> coordinate.</li>\n",
    "  </ul>\n",
    "  <p>\n",
    "    The <code>step()</code> method handles movement, boundaries, obstacles, rewards, and terminal states.\n",
    "    The <code>render()</code> method lets us <strong>visualize the grid</strong> and monitor the agent’s position.\n",
    "  </p>\n",
    "</div>\n"
   ]
  },
  {
   "cell_type": "code",
   "execution_count": 2,
   "id": "2c0c3b70",
   "metadata": {
    "execution": {
     "iopub.execute_input": "2025-09-21T17:30:29.163942Z",
     "iopub.status.busy": "2025-09-21T17:30:29.163654Z",
     "iopub.status.idle": "2025-09-21T17:30:29.174072Z",
     "shell.execute_reply": "2025-09-21T17:30:29.173388Z"
    },
    "papermill": {
     "duration": 0.014901,
     "end_time": "2025-09-21T17:30:29.175738",
     "exception": false,
     "start_time": "2025-09-21T17:30:29.160837",
     "status": "completed"
    },
    "tags": []
   },
   "outputs": [],
   "source": [
    "# Step 2 — Define GridWorld Environment\n",
    "\n",
    "class GridWorld:\n",
    "    def __init__(self, rows, cols, start, goal, obstacles=None, traps=None):\n",
    "        self.rows = rows\n",
    "        self.cols = cols\n",
    "        self.start = start\n",
    "        self.goal = goal\n",
    "        self.obstacles = obstacles if obstacles else []\n",
    "        self.traps = traps if traps else []\n",
    "        self.reset()\n",
    "    \n",
    "    def reset(self):\n",
    "        \"\"\"Reset the agent to the start position.\"\"\"\n",
    "        self.agent_pos = self.start\n",
    "        return self.state()\n",
    "    \n",
    "    def state(self):\n",
    "        \"\"\"Return current state as (row, col) tuple.\"\"\"\n",
    "        return self.agent_pos\n",
    "    \n",
    "    def step(self, action):\n",
    "        \"\"\"Take an action and return new_state, reward, done.\"\"\"\n",
    "        r, c = self.agent_pos\n",
    "        if action == 'U': r -= 1\n",
    "        elif action == 'D': r += 1\n",
    "        elif action == 'L': c -= 1\n",
    "        elif action == 'R': c += 1\n",
    "        \n",
    "        # Stay inside bounds\n",
    "        if r < 0: r = 0\n",
    "        if r >= self.rows: r = self.rows - 1\n",
    "        if c < 0: c = 0\n",
    "        if c >= self.cols: c = self.cols - 1\n",
    "        \n",
    "        # If next cell is obstacle → stay put\n",
    "        if (r, c) in self.obstacles:\n",
    "            r, c = self.agent_pos\n",
    "        \n",
    "        self.agent_pos = (r, c)\n",
    "        \n",
    "        # Determine reward and done\n",
    "        if self.agent_pos == self.goal:\n",
    "            return self.state(), 10, True  # Goal reward\n",
    "        elif self.agent_pos in self.traps:\n",
    "            return self.state(), -5, True  # Trap penalty\n",
    "        else:\n",
    "            return self.state(), -1, False  # Step cost\n",
    "    \n",
    "    def render(self):\n",
    "        \"\"\"Print the current grid with agent position.\"\"\"\n",
    "        grid = [['.' for _ in range(self.cols)] for _ in range(self.rows)]\n",
    "        for (ro, co) in self.obstacles:\n",
    "            grid[ro][co] = '#'\n",
    "        for (rt, ct) in self.traps:\n",
    "            grid[rt][ct] = 'X'\n",
    "        gr, gc = self.goal\n",
    "        grid[gr][gc] = 'G'\n",
    "        ar, ac = self.agent_pos\n",
    "        grid[ar][ac] = 'A'\n",
    "        \n",
    "        for row in grid:\n",
    "            print(' '.join(row))\n",
    "        print()\n"
   ]
  },
  {
   "cell_type": "code",
   "execution_count": 3,
   "id": "80842053",
   "metadata": {
    "execution": {
     "iopub.execute_input": "2025-09-21T17:30:29.180867Z",
     "iopub.status.busy": "2025-09-21T17:30:29.180568Z",
     "iopub.status.idle": "2025-09-21T17:30:29.186010Z",
     "shell.execute_reply": "2025-09-21T17:30:29.184923Z"
    },
    "papermill": {
     "duration": 0.00977,
     "end_time": "2025-09-21T17:30:29.187564",
     "exception": false,
     "start_time": "2025-09-21T17:30:29.177794",
     "status": "completed"
    },
    "tags": []
   },
   "outputs": [
    {
     "name": "stdout",
     "output_type": "stream",
     "text": [
      "A . . . . .\n",
      ". # . . X .\n",
      ". . . # . .\n",
      ". . . # . .\n",
      ". # . . X .\n",
      ". . . . . G\n",
      "\n"
     ]
    }
   ],
   "source": [
    "# Create a 6x6 GridWorld example\n",
    "env = GridWorld(\n",
    "    rows=GRID_ROWS,\n",
    "    cols=GRID_COLS,\n",
    "    start=(0, 0),\n",
    "    goal=(5, 5),\n",
    "    obstacles=[(1, 1), (2, 3), (3, 3), (4, 1)],\n",
    "    traps=[(1, 4), (4, 4)]\n",
    ")\n",
    "\n",
    "state = env.reset()\n",
    "env.render()\n"
   ]
  }
 ],
 "metadata": {
  "kaggle": {
   "accelerator": "none",
   "dataSources": [],
   "dockerImageVersionId": 31089,
   "isGpuEnabled": false,
   "isInternetEnabled": true,
   "language": "python",
   "sourceType": "notebook"
  },
  "kernelspec": {
   "display_name": "Python 3",
   "language": "python",
   "name": "python3"
  },
  "language_info": {
   "codemirror_mode": {
    "name": "ipython",
    "version": 3
   },
   "file_extension": ".py",
   "mimetype": "text/x-python",
   "name": "python",
   "nbconvert_exporter": "python",
   "pygments_lexer": "ipython3",
   "version": "3.11.13"
  },
  "papermill": {
   "default_parameters": {},
   "duration": 5.883663,
   "end_time": "2025-09-21T17:30:29.608615",
   "environment_variables": {},
   "exception": null,
   "input_path": "__notebook__.ipynb",
   "output_path": "__notebook__.ipynb",
   "parameters": {},
   "start_time": "2025-09-21T17:30:23.724952",
   "version": "2.6.0"
  }
 },
 "nbformat": 4,
 "nbformat_minor": 5
}
